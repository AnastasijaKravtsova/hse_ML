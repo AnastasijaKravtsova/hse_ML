{
 "cells": [
  {
   "cell_type": "markdown",
   "metadata": {
    "colab_type": "text",
    "id": "mn7l15f7piUr"
   },
   "source": [
    "# AGRR: Automatic Gapping Resolution for Russian\n",
    "\n",
    "**Команда pygirls представляет решение домашнего задания номер 2!**\n",
    "\n",
    "* Вера Давыдова\n",
    "* Анастасия Кравцова\n",
    "* Арина Решетникова"
   ]
  },
  {
   "cell_type": "code",
   "execution_count": 1,
   "metadata": {
    "colab": {
     "base_uri": "https://localhost:8080/",
     "height": 102
    },
    "colab_type": "code",
    "id": "GXDhQkLzxVWW",
    "outputId": "ae6dd836-86df-42d0-c926-492d7ed64297"
   },
   "outputs": [
    {
     "name": "stdout",
     "output_type": "stream",
     "text": [
      "Requirement already satisfied: pymorphy2[fast] in /usr/local/lib/python3.6/dist-packages (0.8)\n",
      "Requirement already satisfied: pymorphy2-dicts<3.0,>=2.4 in /usr/local/lib/python3.6/dist-packages (from pymorphy2[fast]) (2.4.393442.3710985)\n",
      "Requirement already satisfied: docopt>=0.6 in /usr/local/lib/python3.6/dist-packages (from pymorphy2[fast]) (0.6.2)\n",
      "Requirement already satisfied: dawg-python>=0.7 in /usr/local/lib/python3.6/dist-packages (from pymorphy2[fast]) (0.7.2)\n",
      "Requirement already satisfied: DAWG>=0.7.3; extra == \"fast\" in /usr/local/lib/python3.6/dist-packages (from pymorphy2[fast]) (0.7.8)\n"
     ]
    }
   ],
   "source": [
    "!pip install pymorphy2[fast]"
   ]
  },
  {
   "cell_type": "code",
   "execution_count": 2,
   "metadata": {
    "colab": {
     "base_uri": "https://localhost:8080/",
     "height": 34
    },
    "colab_type": "code",
    "id": "Evv6j-6r-_QF",
    "outputId": "5be4e6c6-5cbc-49a4-eb69-88a7afabfe0b"
   },
   "outputs": [
    {
     "name": "stderr",
     "output_type": "stream",
     "text": [
      "Using TensorFlow backend.\n"
     ]
    }
   ],
   "source": [
    "import pandas as pd\n",
    "import csv\n",
    "import re\n",
    "import numpy as np\n",
    "from gensim import models\n",
    "from pymorphy2 import MorphAnalyzer\n",
    "from string import punctuation\n",
    "from keras import Sequential\n",
    "from keras.models import Model, Input\n",
    "from keras.layers import Dense, Dropout, LSTM, Embedding, TimeDistributed, Bidirectional\n",
    "\n",
    "\n",
    "punct = punctuation+'«»—…“”*№–'\n",
    "morph = MorphAnalyzer()"
   ]
  },
  {
   "cell_type": "markdown",
   "metadata": {
    "colab_type": "text",
    "id": "TVhuK9if-_QK"
   },
   "source": [
    "### 1.  Подготовка данных"
   ]
  },
  {
   "cell_type": "code",
   "execution_count": 3,
   "metadata": {
    "colab": {
     "base_uri": "https://localhost:8080/",
     "height": 578
    },
    "colab_type": "code",
    "id": "itUEombl_O3I",
    "outputId": "716c2497-b703-4727-f957-532364f1c886"
   },
   "outputs": [
    {
     "name": "stdout",
     "output_type": "stream",
     "text": [
      "--2019-05-02 11:00:39--  https://raw.githubusercontent.com/artemovae/ML-for-compling/master/homeworks/HW2/train.csv\n",
      "Resolving raw.githubusercontent.com (raw.githubusercontent.com)... 151.101.0.133, 151.101.64.133, 151.101.128.133, ...\n",
      "Connecting to raw.githubusercontent.com (raw.githubusercontent.com)|151.101.0.133|:443... connected.\n",
      "HTTP request sent, awaiting response... 200 OK\n",
      "Length: 4853915 (4.6M) [text/plain]\n",
      "Saving to: ‘train.csv.5’\n",
      "\n",
      "\r",
      "train.csv.5           0%[                    ]       0  --.-KB/s               \r",
      "train.csv.5         100%[===================>]   4.63M  --.-KB/s    in 0.1s    \n",
      "\n",
      "2019-05-02 11:00:39 (43.9 MB/s) - ‘train.csv.5’ saved [4853915/4853915]\n",
      "\n",
      "--2019-05-02 11:00:41--  https://raw.githubusercontent.com/artemovae/ML-for-compling/master/homeworks/HW2/test.csv\n",
      "Resolving raw.githubusercontent.com (raw.githubusercontent.com)... 151.101.0.133, 151.101.64.133, 151.101.128.133, ...\n",
      "Connecting to raw.githubusercontent.com (raw.githubusercontent.com)|151.101.0.133|:443... connected.\n",
      "HTTP request sent, awaiting response... 200 OK\n",
      "Length: 606900 (593K) [text/plain]\n",
      "Saving to: ‘test.csv.5’\n",
      "\n",
      "test.csv.5          100%[===================>] 592.68K  --.-KB/s    in 0.06s   \n",
      "\n",
      "2019-05-02 11:00:41 (9.29 MB/s) - ‘test.csv.5’ saved [606900/606900]\n",
      "\n",
      "--2019-05-02 11:00:42--  https://raw.githubusercontent.com/artemovae/ML-for-compling/master/homeworks/HW2/dev.csv\n",
      "Resolving raw.githubusercontent.com (raw.githubusercontent.com)... 151.101.0.133, 151.101.64.133, 151.101.128.133, ...\n",
      "Connecting to raw.githubusercontent.com (raw.githubusercontent.com)|151.101.0.133|:443... connected.\n",
      "HTTP request sent, awaiting response... 200 OK\n",
      "Length: 1237143 (1.2M) [text/plain]\n",
      "Saving to: ‘dev.csv.5’\n",
      "\n",
      "dev.csv.5           100%[===================>]   1.18M  --.-KB/s    in 0.08s   \n",
      "\n",
      "2019-05-02 11:00:43 (15.4 MB/s) - ‘dev.csv.5’ saved [1237143/1237143]\n",
      "\n"
     ]
    }
   ],
   "source": [
    "!wget https://raw.githubusercontent.com/artemovae/ML-for-compling/master/homeworks/HW2/train.csv\n",
    "!wget https://raw.githubusercontent.com/artemovae/ML-for-compling/master/homeworks/HW2/test.csv\n",
    "!wget https://raw.githubusercontent.com/artemovae/ML-for-compling/master/homeworks/HW2/dev.csv"
   ]
  },
  {
   "cell_type": "code",
   "execution_count": 0,
   "metadata": {
    "colab": {},
    "colab_type": "code",
    "id": "2c2U4WVq-_QL"
   },
   "outputs": [],
   "source": [
    "train = pd.read_csv('train.csv',sep = '\\t', quoting=csv.QUOTE_NONE, encoding='utf-8')\n",
    "test = pd.read_csv('test.csv',sep = '\\t', quoting=csv.QUOTE_NONE, encoding='utf-8')\n",
    "dev = pd.read_csv('dev.csv',sep = '\\t', quoting=csv.QUOTE_NONE, encoding='utf-8')"
   ]
  },
  {
   "cell_type": "code",
   "execution_count": 5,
   "metadata": {
    "colab": {
     "base_uri": "https://localhost:8080/",
     "height": 221
    },
    "colab_type": "code",
    "id": "OKJ_RNAp-_QO",
    "outputId": "602b0d06-1cae-4821-cc5f-2e001856ecb3"
   },
   "outputs": [
    {
     "name": "stdout",
     "output_type": "stream",
     "text": [
      "train:\n",
      "Примеров класса 1:  5542\n",
      "Примеров класса 0:  10864 \n",
      "\n",
      "test:\n",
      "Примеров класса 1:  680\n",
      "Примеров класса 0:  1365 \n",
      "\n",
      "dev:\n",
      "Примеров класса 1:  1382\n",
      "Примеров класса 0:  2760 \n",
      "\n"
     ]
    }
   ],
   "source": [
    "print('train:')\n",
    "print('Примеров класса 1: ', int(train['class'].sum()))\n",
    "print('Примеров класса 0: ', int(len(train['class'])-train['class'].sum()), '\\n')\n",
    "print('test:')\n",
    "print('Примеров класса 1: ', int(test['class'].sum()))\n",
    "print('Примеров класса 0: ', int(len(test['class'])-test['class'].sum()), '\\n')\n",
    "print('dev:')\n",
    "print('Примеров класса 1: ', int(dev['class'].sum()))\n",
    "print('Примеров класса 0: ', int(len(dev['class'])-dev['class'].sum()), '\\n')"
   ]
  },
  {
   "cell_type": "markdown",
   "metadata": {
    "colab_type": "text",
    "id": "xxhSYqD9-_QV"
   },
   "source": [
    "### 2. Анализ разметки"
   ]
  },
  {
   "cell_type": "code",
   "execution_count": 0,
   "metadata": {
    "colab": {},
    "colab_type": "code",
    "id": "3Om2beH6-_QW"
   },
   "outputs": [],
   "source": [
    "train_1 = train[train['class'] != 0]\n",
    "test_1 = test[test['class'] != 0]\n",
    "dev_1 = dev[dev['class'] != 0]\n",
    "\n",
    "train_1.reset_index(drop=True, inplace=True)\n",
    "test_1.reset_index(drop=True, inplace=True)\n",
    "dev_1.reset_index(drop=True, inplace=True)"
   ]
  },
  {
   "cell_type": "code",
   "execution_count": 0,
   "metadata": {
    "colab": {},
    "colab_type": "code",
    "id": "OYIHDHPG-_QZ"
   },
   "outputs": [],
   "source": [
    "strange_cases = pd.DataFrame(columns=['text', 'class', 'cV', 'cR1', 'cR2', 'V', 'R1', 'R2'])\n",
    "\n",
    "pattern = re.compile(r'^(\\d+:\\d+)$')\n",
    "\n",
    "for index, row in test_1.loc[:,'cV':].iterrows():\n",
    "    for i in row:\n",
    "        if not re.match(pattern, str(i)):\n",
    "            strange_cases = strange_cases.append(test.loc[index])\n",
    "\n",
    "for index, row in train_1.loc[:,'cV':].iterrows():\n",
    "    for i in row:\n",
    "        if not re.match(pattern, str(i)):\n",
    "            strange_cases = strange_cases.append(train.loc[index])\n",
    "            \n",
    "for index, row in dev_1.loc[:,'cV':].iterrows():\n",
    "    for i in row:\n",
    "        if not re.match(pattern, str(i)):\n",
    "            strange_cases = strange_cases.append(dev.loc[index])"
   ]
  },
  {
   "cell_type": "code",
   "execution_count": 8,
   "metadata": {
    "colab": {
     "base_uri": "https://localhost:8080/",
     "height": 85
    },
    "colab_type": "code",
    "id": "QSZcDnFe-_Qc",
    "outputId": "aaa1b4e4-d727-48fa-d682-f320021cbfd8"
   },
   "outputs": [
    {
     "name": "stdout",
     "output_type": "stream",
     "text": [
      "Всего нестандартных примеров:  628\n",
      "Число нестандартных примеров, содержащих 2 и более пар оффсетов:  189\n",
      "Число нестандартных примеров, в которых отсутствует какой-либо оффсет:  439\n",
      "Число неразмеченных примеров:  0\n"
     ]
    }
   ],
   "source": [
    "strange_cases = strange_cases.drop_duplicates()\n",
    "print('Всего нестандартных примеров: ', len(strange_cases))\n",
    "\n",
    "multiple_pairs = strange_cases.dropna(how='any')\n",
    "print('Число нестандартных примеров, содержащих 2 и более пар оффсетов: ', len(multiple_pairs))\n",
    "\n",
    "other_cases = pd.DataFrame(columns=['text', 'class', 'cV', 'cR1', 'cR2', 'V', 'R1', 'R2'])\n",
    "for index, row in strange_cases.iterrows():\n",
    "    for i in row:\n",
    "        if 'nan' in str(i):\n",
    "            other_cases = other_cases.append(row)\n",
    "            \n",
    "other_cases = other_cases.drop_duplicates()\n",
    "unlabeled_counter = 0\n",
    "for index, row in other_cases.iterrows():\n",
    "    if str(row['class']) == 'nan':\n",
    "        unlabeled_counter += 1\n",
    "        other_cases = other_cases.drop(index)\n",
    "print('Число нестандартных примеров, в которых отсутствует какой-либо оффсет: ', len(other_cases))\n",
    "\n",
    "print('Число неразмеченных примеров: ', unlabeled_counter)"
   ]
  },
  {
   "cell_type": "markdown",
   "metadata": {
    "colab_type": "text",
    "id": "-EMLCF9o-_R5"
   },
   "source": [
    "### 3. Конвертер разметки-1"
   ]
  },
  {
   "cell_type": "code",
   "execution_count": 0,
   "metadata": {
    "colab": {},
    "colab_type": "code",
    "id": "i0OSClun-_R6"
   },
   "outputs": [],
   "source": [
    "def convert(row):\n",
    "    \n",
    "    b = True\n",
    "    I = 'I-'\n",
    "    O = 'O'\n",
    "    text = row.text\n",
    "    num_v = []\n",
    "  \n",
    "    cv, cr1 = ('cV', [row.cV.split(':') for row.cV in row.cV.split()]), \\\n",
    "      ('cR1', [row.cR1.split(':') for row.cR1 in row.cR1.split()])\n",
    "\n",
    "    if type(row.cR2) != float:\n",
    "        cr2 = ('cR2', [row.cR2.split(':') for row.cR2 in row.cR2.split()])  \n",
    "    else:\n",
    "        b = False\n",
    "\n",
    "    v, r1 = ('V', [row.V.split(':') for row.V in row.V.split()]), \\\n",
    "      ('R1', [row.R1.split(':') for row.R1 in row.R1.split()])\n",
    "  \n",
    "    if type(row.R2) != float:\n",
    "        r2 = ('R2', [row.R2.split(':') for row.R2 in row.R2.split()])\n",
    "    \n",
    "    if b:\n",
    "        tags = [cv, cr1, cr2, v, r1, r2]\n",
    "    else:\n",
    "        tags = [cv, cr1, v, r1]\n",
    "    \n",
    "    \n",
    "    tags_dict = {}\n",
    "    for tag in tags:\n",
    "        offset = tag[0]\n",
    "        for i in tag[1]:\n",
    "            tokens = (text[int(i[0]):int(i[1])]).split()\n",
    "        for token in tokens:\n",
    "            tags_dict[token] = I + offset\n",
    "        \n",
    "    sentence, tokens = text.split(), []\n",
    "  \n",
    "    for i, token in enumerate(sentence):\n",
    "        token = token.strip(punct)\n",
    "        tokens.append(token)\n",
    "        if token in tags_dict.keys():\n",
    "            sentence[i] = tags_dict[token]\n",
    "        else:\n",
    "            sentence[i] = O\n",
    "            \n",
    "    return ' '.join(sentence)"
   ]
  },
  {
   "cell_type": "code",
   "execution_count": 10,
   "metadata": {
    "colab": {
     "base_uri": "https://localhost:8080/",
     "height": 119
    },
    "colab_type": "code",
    "id": "CEjmNmc7-_R9",
    "outputId": "94b2cdcb-9b37-49ad-d9ac-8102994c1f2b"
   },
   "outputs": [
    {
     "name": "stderr",
     "output_type": "stream",
     "text": [
      "/usr/local/lib/python3.6/dist-packages/ipykernel_launcher.py:14: SettingWithCopyWarning: \n",
      "A value is trying to be set on a copy of a slice from a DataFrame.\n",
      "Try using .loc[row_indexer,col_indexer] = value instead\n",
      "\n",
      "See the caveats in the documentation: http://pandas.pydata.org/pandas-docs/stable/indexing.html#indexing-view-versus-copy\n",
      "  \n"
     ]
    }
   ],
   "source": [
    "def annotate(dataframe=train_1):\n",
    "  \n",
    "  annotated = []\n",
    "  \n",
    "  for row in dataframe.iterrows():\n",
    "    try:\n",
    "        annotated.append(convert(row[1]))\n",
    "    except AttributeError:\n",
    "        annotated.append(np.nan)\n",
    "        continue\n",
    "  \n",
    "  return annotated\n",
    "\n",
    "train_1['io'] = annotate()"
   ]
  },
  {
   "cell_type": "code",
   "execution_count": 11,
   "metadata": {
    "colab": {
     "base_uri": "https://localhost:8080/",
     "height": 204
    },
    "colab_type": "code",
    "id": "nogR-wsX-_SH",
    "outputId": "b323d2ab-f045-4095-adae-05395d5d93fc",
    "scrolled": true
   },
   "outputs": [
    {
     "data": {
      "text/html": [
       "<div>\n",
       "<style scoped>\n",
       "    .dataframe tbody tr th:only-of-type {\n",
       "        vertical-align: middle;\n",
       "    }\n",
       "\n",
       "    .dataframe tbody tr th {\n",
       "        vertical-align: top;\n",
       "    }\n",
       "\n",
       "    .dataframe thead th {\n",
       "        text-align: right;\n",
       "    }\n",
       "</style>\n",
       "<table border=\"1\" class=\"dataframe\">\n",
       "  <thead>\n",
       "    <tr style=\"text-align: right;\">\n",
       "      <th></th>\n",
       "      <th>text</th>\n",
       "      <th>class</th>\n",
       "      <th>cV</th>\n",
       "      <th>cR1</th>\n",
       "      <th>cR2</th>\n",
       "      <th>V</th>\n",
       "      <th>R1</th>\n",
       "      <th>R2</th>\n",
       "      <th>io</th>\n",
       "    </tr>\n",
       "  </thead>\n",
       "  <tbody>\n",
       "    <tr>\n",
       "      <th>0</th>\n",
       "      <td>Работа с двухбайтовыми наборами символов — про...</td>\n",
       "      <td>1</td>\n",
       "      <td>92:99</td>\n",
       "      <td>83:91</td>\n",
       "      <td>103:109</td>\n",
       "      <td>127:127</td>\n",
       "      <td>119:124</td>\n",
       "      <td>127:134</td>\n",
       "      <td>O O O O O O O O O O O O I-R1 I-cR1 I-cV I-R2 I...</td>\n",
       "    </tr>\n",
       "    <tr>\n",
       "      <th>1</th>\n",
       "      <td>Выворачивает наизнанку, запад превращает в юг,...</td>\n",
       "      <td>1</td>\n",
       "      <td>30:40</td>\n",
       "      <td>24:29</td>\n",
       "      <td>41:45</td>\n",
       "      <td>57:57</td>\n",
       "      <td>49:54</td>\n",
       "      <td>57:65</td>\n",
       "      <td>O O I-cR1 I-cV I-R2 I-cR2 O I-R1 O I-R2 I-R2 O...</td>\n",
       "    </tr>\n",
       "    <tr>\n",
       "      <th>2</th>\n",
       "      <td>Текущие обязательства компании в 2009 г. сокра...</td>\n",
       "      <td>1</td>\n",
       "      <td>109:120</td>\n",
       "      <td>82:108</td>\n",
       "      <td>121:148</td>\n",
       "      <td>180:180</td>\n",
       "      <td>152:177</td>\n",
       "      <td>180:202</td>\n",
       "      <td>O I-cR1 O O O O O I-R2 O O I-R2 O O I-R2 I-cR1...</td>\n",
       "    </tr>\n",
       "    <tr>\n",
       "      <th>3</th>\n",
       "      <td>Первая конвенция была ратифицирована 80 процен...</td>\n",
       "      <td>1</td>\n",
       "      <td>22:36</td>\n",
       "      <td>0:16</td>\n",
       "      <td>37:74</td>\n",
       "      <td>87:87</td>\n",
       "      <td>78:84</td>\n",
       "      <td>87:116</td>\n",
       "      <td>I-cR1 I-cR1 O I-cV I-cR2 I-R2 I-R2 O I-cR2 I-c...</td>\n",
       "    </tr>\n",
       "    <tr>\n",
       "      <th>4</th>\n",
       "      <td>Но Христианин сказал Упрямому: — Нет, сосед, л...</td>\n",
       "      <td>1</td>\n",
       "      <td>105:112</td>\n",
       "      <td>113:139</td>\n",
       "      <td>NaN</td>\n",
       "      <td>156:156</td>\n",
       "      <td>156:169</td>\n",
       "      <td>NaN</td>\n",
       "      <td>O O O O O O O O O O O O O O O O O I-cV O I-cR1...</td>\n",
       "    </tr>\n",
       "  </tbody>\n",
       "</table>\n",
       "</div>"
      ],
      "text/plain": [
       "                                                text  class       cV      cR1  \\\n",
       "0  Работа с двухбайтовыми наборами символов — про...      1    92:99    83:91   \n",
       "1  Выворачивает наизнанку, запад превращает в юг,...      1    30:40    24:29   \n",
       "2  Текущие обязательства компании в 2009 г. сокра...      1  109:120   82:108   \n",
       "3  Первая конвенция была ратифицирована 80 процен...      1    22:36     0:16   \n",
       "4  Но Христианин сказал Упрямому: — Нет, сосед, л...      1  105:112  113:139   \n",
       "\n",
       "       cR2        V       R1       R2  \\\n",
       "0  103:109  127:127  119:124  127:134   \n",
       "1    41:45    57:57    49:54    57:65   \n",
       "2  121:148  180:180  152:177  180:202   \n",
       "3    37:74    87:87    78:84   87:116   \n",
       "4      NaN  156:156  156:169      NaN   \n",
       "\n",
       "                                                  io  \n",
       "0  O O O O O O O O O O O O I-R1 I-cR1 I-cV I-R2 I...  \n",
       "1  O O I-cR1 I-cV I-R2 I-cR2 O I-R1 O I-R2 I-R2 O...  \n",
       "2  O I-cR1 O O O O O I-R2 O O I-R2 O O I-R2 I-cR1...  \n",
       "3  I-cR1 I-cR1 O I-cV I-cR2 I-R2 I-R2 O I-cR2 I-c...  \n",
       "4  O O O O O O O O O O O O O O O O O I-cV O I-cR1...  "
      ]
     },
     "execution_count": 11,
     "metadata": {
      "tags": []
     },
     "output_type": "execute_result"
    }
   ],
   "source": [
    "train_1.head()"
   ]
  },
  {
   "cell_type": "markdown",
   "metadata": {
    "colab_type": "text",
    "id": "qXkoYx9iAl9J"
   },
   "source": [
    "### 4. Конвертер разметки-2"
   ]
  },
  {
   "cell_type": "code",
   "execution_count": 12,
   "metadata": {
    "colab": {
     "base_uri": "https://localhost:8080/",
     "height": 139
    },
    "colab_type": "code",
    "id": "0_QI8bqJCKj_",
    "outputId": "c8e7fc07-05f7-467a-d2f2-9c71174bec1f"
   },
   "outputs": [
    {
     "name": "stderr",
     "output_type": "stream",
     "text": [
      "/usr/local/lib/python3.6/dist-packages/pandas/core/generic.py:5096: SettingWithCopyWarning: \n",
      "A value is trying to be set on a copy of a slice from a DataFrame\n",
      "\n",
      "See the caveats in the documentation: http://pandas.pydata.org/pandas-docs/stable/indexing.html#indexing-view-versus-copy\n",
      "  self[name] = value\n"
     ]
    },
    {
     "data": {
      "text/plain": [
       "'Выворачивает наизнанку, cR1[ запад cR1] cV[ превращает cV] cR2[ в юг cR2], а R1[ север R1] — V[] R2[ в восток R2], меняет местами добро и зло, велит открыть своё сердце, ничего не требуя взамен.'"
      ]
     },
     "execution_count": 12,
     "metadata": {
      "tags": []
     },
     "output_type": "execute_result"
    }
   ],
   "source": [
    "import copy\n",
    "\n",
    "def brackets(row):\n",
    "    \"\"\"\n",
    "    Функция для перевода разметки по оффсетам в скобочную запись.\n",
    "    \"\"\"\n",
    "    text = row.text\n",
    "    new_text = copy.deepcopy(text)\n",
    "    \n",
    "    cv = [row.cV.split(':') for row.cV in row.cV.split() if str(row.cV) != 'nan']  \n",
    "    cr1 = [row.cR1.split(':') for row.cR1 in row.cR1.split() if str(row.cR1) != 'nan']\n",
    "    if type(row.cR2) != float:\n",
    "        cr2 = [row.cR2.split(':') for row.cR2 in row.cR2.split() if str(row.cR2) != 'nan'] \n",
    "    v = [row.V.split(':') for row.V in row.V.split() if str(row.V) != 'nan']\n",
    "    r1 = [row.R1.split(':') for row.R1 in row.R1.split() if str(row.R1) != 'nan']\n",
    "    if type(row.R2) != float:\n",
    "        r2 = [row.R2.split(':') for row.R2 in row.R2.split() if str(row.R2) != 'nan']\n",
    "    \n",
    "    for offset in v:\n",
    "        new_text = new_text[:int(offset[0])] + \"V[] \" + new_text[int(offset[1]):]\n",
    "    \n",
    "    cv_tokens = [text[int(offset[0]):int(offset[1])] for offset in cv]\n",
    "    for token in cv_tokens:\n",
    "        new_token = \"cV[ \" + token + \" cV]\"\n",
    "        new_text = new_text.replace(token, new_token)\n",
    "            \n",
    "    cr1_tokens = [text[int(offset[0]):int(offset[1])] for offset in cr1]\n",
    "    for token in cr1_tokens:\n",
    "        new_token = \"cR1[ \" + token + \" cR1]\"\n",
    "        new_text = new_text.replace(token, new_token)\n",
    "        \n",
    "    cr2_tokens = [text[int(offset[0]):int(offset[1])] for offset in cr2]\n",
    "    for token in cr2_tokens:\n",
    "        new_token = \"cR2[ \" + token + \" cR2]\"\n",
    "        new_text = new_text.replace(token, new_token)\n",
    "    \n",
    "    r1_tokens = [text[int(offset[0]):int(offset[1])] for offset in r1]\n",
    "    for token in r1_tokens:\n",
    "        new_token = \"R1[ \" + token + \" R1]\"\n",
    "        new_text = new_text.replace(token, new_token)\n",
    "        \n",
    "    r2_tokens = [text[int(offset[0]):int(offset[1])] for offset in r2]\n",
    "    for token in r2_tokens:\n",
    "        new_token = \"R2[ \" + token + \" R2]\"\n",
    "        new_text = new_text.replace(token, new_token)\n",
    "\n",
    "    return new_text\n",
    "\n",
    "# Тестируем работу функции\n",
    "brackets(train_1.iloc[1])"
   ]
  },
  {
   "cell_type": "markdown",
   "metadata": {
    "colab_type": "text",
    "id": "S5DEOhwz-_SL"
   },
   "source": [
    "### 5. Бинарная классификация"
   ]
  },
  {
   "cell_type": "markdown",
   "metadata": {
    "colab_type": "text",
    "id": "c70rwr6oZ1a-"
   },
   "source": [
    "Воспользовались этим [гайдом](https://medium.com/datadriveninvestor/building-neural-network-using-keras-for-classification-3a3656c726c1)\n",
    "\n",
    "Взяли предобученные эмбеддинги с [русвекторес](https://rusvectores.org/ru/models/)"
   ]
  },
  {
   "cell_type": "code",
   "execution_count": 13,
   "metadata": {
    "colab": {
     "base_uri": "https://localhost:8080/",
     "height": 459
    },
    "colab_type": "code",
    "id": "OMAZ3MakTAnZ",
    "outputId": "ca13a333-ae8f-4d5f-a1b0-e5aa673adf72"
   },
   "outputs": [
    {
     "name": "stdout",
     "output_type": "stream",
     "text": [
      "--2019-05-02 11:01:08--  http://vectors.nlpl.eu/repository/11/180.zip\n",
      "Resolving vectors.nlpl.eu (vectors.nlpl.eu)... 129.240.189.225\n",
      "Connecting to vectors.nlpl.eu (vectors.nlpl.eu)|129.240.189.225|:80... connected.\n",
      "HTTP request sent, awaiting response... 200 OK\n",
      "Length: 484452285 (462M) [application/zip]\n",
      "Saving to: ‘180.zip.4’\n",
      "\n",
      "180.zip.4           100%[===================>] 462.01M  22.9MB/s    in 23s     \n",
      "\n",
      "2019-05-02 11:01:32 (20.4 MB/s) - ‘180.zip.4’ saved [484452285/484452285]\n",
      "\n",
      "Archive:  180.zip\n",
      "replace README? [y]es, [n]o, [A]ll, [N]one, [r]ename: y\n",
      "  inflating: README                  \n",
      "replace meta.json? [y]es, [n]o, [A]ll, [N]one, [r]ename: y\n",
      "  inflating: meta.json               \n",
      "replace model.bin? [y]es, [n]o, [A]ll, [N]one, [r]ename: y\n",
      "  inflating: model.bin               y\n",
      "\n",
      "replace model.txt? [y]es, [n]o, [A]ll, [N]one, [r]ename:   inflating: model.txt               y\n",
      "y\n",
      "y\n",
      "y\n",
      "y\n",
      "y\n",
      "\n"
     ]
    }
   ],
   "source": [
    "!wget http://vectors.nlpl.eu/repository/11/180.zip\n",
    "!unzip 180.zip"
   ]
  },
  {
   "cell_type": "code",
   "execution_count": 0,
   "metadata": {
    "colab": {},
    "colab_type": "code",
    "id": "7rCHnkmR-_SM"
   },
   "outputs": [],
   "source": [
    "for index, row in train.iterrows():\n",
    "    if str(row['class']) == 'nan':\n",
    "        train = train.drop(index)        \n",
    "        \n",
    "for index, row in test.iterrows():\n",
    "    if str(row['class']) == 'nan':\n",
    "        test = test.drop(index)"
   ]
  },
  {
   "cell_type": "code",
   "execution_count": 0,
   "metadata": {
    "colab": {},
    "colab_type": "code",
    "id": "-OOI1Gxn-_SP"
   },
   "outputs": [],
   "source": [
    "embeddings = models.KeyedVectors.load_word2vec_format(r'model.txt')"
   ]
  },
  {
   "cell_type": "code",
   "execution_count": 0,
   "metadata": {
    "colab": {},
    "colab_type": "code",
    "id": "2r2op8we-_ST"
   },
   "outputs": [],
   "source": [
    "def preprocess(text):\n",
    "    out = []\n",
    "    words = [word.strip(punct) for word in text.lower().split()] \n",
    "    for word in words:\n",
    "        if word:\n",
    "            output = '%s_%s' % (morph.parse(word)[0].normal_form, morph.parse(word)[0].tag.POS)\n",
    "            out.append(output)\n",
    "    return out"
   ]
  },
  {
   "cell_type": "code",
   "execution_count": 0,
   "metadata": {
    "colab": {},
    "colab_type": "code",
    "id": "0lnuVMH6-_Sa",
    "scrolled": true
   },
   "outputs": [],
   "source": [
    "train['lemmas_pos'] = train['text'].apply(preprocess)"
   ]
  },
  {
   "cell_type": "code",
   "execution_count": 0,
   "metadata": {
    "colab": {},
    "colab_type": "code",
    "id": "BAa1G2wm-_Sc"
   },
   "outputs": [],
   "source": [
    "test['lemmas_pos'] = test['text'].apply(preprocess)"
   ]
  },
  {
   "cell_type": "code",
   "execution_count": 0,
   "metadata": {
    "colab": {},
    "colab_type": "code",
    "id": "svrmCI7U-_Sf"
   },
   "outputs": [],
   "source": [
    "model=embeddings\n",
    "def get_vector(sent):  # функция взята из тетрадки семинара по эмбеддингам: \n",
    "                       # https://github.com/bakarov/seminars/blob/master/distributional-semantics/distributional-semantics.ipynb\n",
    "    vector = np.zeros(shape=model.vector_size)\n",
    "    counter = 0\n",
    "    for word in sent:\n",
    "        if word in model.vocab: \n",
    "            try:\n",
    "                vector = np.add(vector, model[word])\n",
    "                counter += 1\n",
    "            except KeyError:\n",
    "                pass\n",
    "    if counter == 0:\n",
    "        return vector\n",
    "    return vector / counter"
   ]
  },
  {
   "cell_type": "code",
   "execution_count": 0,
   "metadata": {
    "colab": {},
    "colab_type": "code",
    "id": "IQQ-5gs2-_Sh"
   },
   "outputs": [],
   "source": [
    "train['vectors'] = train['lemmas_pos'].apply(get_vector)"
   ]
  },
  {
   "cell_type": "code",
   "execution_count": 0,
   "metadata": {
    "colab": {},
    "colab_type": "code",
    "id": "6FxgnCsd-_Sl"
   },
   "outputs": [],
   "source": [
    "test['vectors'] = test['lemmas_pos'].apply(get_vector)"
   ]
  },
  {
   "cell_type": "code",
   "execution_count": 22,
   "metadata": {
    "colab": {
     "base_uri": "https://localhost:8080/",
     "height": 289
    },
    "colab_type": "code",
    "id": "TeUEXwrz-_Sn",
    "outputId": "a292275d-275e-428d-eec5-001b9b91720d"
   },
   "outputs": [
    {
     "data": {
      "text/html": [
       "<div>\n",
       "<style scoped>\n",
       "    .dataframe tbody tr th:only-of-type {\n",
       "        vertical-align: middle;\n",
       "    }\n",
       "\n",
       "    .dataframe tbody tr th {\n",
       "        vertical-align: top;\n",
       "    }\n",
       "\n",
       "    .dataframe thead th {\n",
       "        text-align: right;\n",
       "    }\n",
       "</style>\n",
       "<table border=\"1\" class=\"dataframe\">\n",
       "  <thead>\n",
       "    <tr style=\"text-align: right;\">\n",
       "      <th></th>\n",
       "      <th>text</th>\n",
       "      <th>class</th>\n",
       "      <th>cV</th>\n",
       "      <th>cR1</th>\n",
       "      <th>cR2</th>\n",
       "      <th>V</th>\n",
       "      <th>R1</th>\n",
       "      <th>R2</th>\n",
       "      <th>lemmas_pos</th>\n",
       "      <th>vectors</th>\n",
       "    </tr>\n",
       "  </thead>\n",
       "  <tbody>\n",
       "    <tr>\n",
       "      <th>0</th>\n",
       "      <td>Будучи в прошлый четверг в Софии, он назвал се...</td>\n",
       "      <td>0</td>\n",
       "      <td>NaN</td>\n",
       "      <td>NaN</td>\n",
       "      <td>NaN</td>\n",
       "      <td>NaN</td>\n",
       "      <td>NaN</td>\n",
       "      <td>NaN</td>\n",
       "      <td>[быть_GRND, в_PREP, прошлый_ADJF, четверг_NOUN...</td>\n",
       "      <td>[0.168603191152215, -0.28739759884774685, 0.09...</td>\n",
       "    </tr>\n",
       "    <tr>\n",
       "      <th>1</th>\n",
       "      <td>Работа с двухбайтовыми наборами символов — про...</td>\n",
       "      <td>1</td>\n",
       "      <td>92:99</td>\n",
       "      <td>83:91</td>\n",
       "      <td>103:109</td>\n",
       "      <td>127:127</td>\n",
       "      <td>119:124</td>\n",
       "      <td>127:134</td>\n",
       "      <td>[работа_NOUN, с_PREP, двухбайтовый_ADJF, набор...</td>\n",
       "      <td>[0.4240986340575748, 0.13711692641178766, 1.37...</td>\n",
       "    </tr>\n",
       "    <tr>\n",
       "      <th>2</th>\n",
       "      <td>Заместитель Генерального секретаря подчеркнул,...</td>\n",
       "      <td>0</td>\n",
       "      <td>NaN</td>\n",
       "      <td>NaN</td>\n",
       "      <td>NaN</td>\n",
       "      <td>NaN</td>\n",
       "      <td>NaN</td>\n",
       "      <td>NaN</td>\n",
       "      <td>[заместитель_NOUN, генеральный_ADJF, секретари...</td>\n",
       "      <td>[0.09843469476875137, -0.1834418819669415, 1.6...</td>\n",
       "    </tr>\n",
       "    <tr>\n",
       "      <th>3</th>\n",
       "      <td>Продажа недвижимости из собственных портфелей ...</td>\n",
       "      <td>0</td>\n",
       "      <td>NaN</td>\n",
       "      <td>NaN</td>\n",
       "      <td>NaN</td>\n",
       "      <td>NaN</td>\n",
       "      <td>NaN</td>\n",
       "      <td>NaN</td>\n",
       "      <td>[продажа_NOUN, недвижимость_NOUN, из_PREP, соб...</td>\n",
       "      <td>[-0.15080114901065828, -0.33817869424819946, -...</td>\n",
       "    </tr>\n",
       "    <tr>\n",
       "      <th>4</th>\n",
       "      <td>Новым является то, что повышенное давление кон...</td>\n",
       "      <td>0</td>\n",
       "      <td>NaN</td>\n",
       "      <td>NaN</td>\n",
       "      <td>NaN</td>\n",
       "      <td>NaN</td>\n",
       "      <td>NaN</td>\n",
       "      <td>NaN</td>\n",
       "      <td>[новый_ADJF, являться_VERB, то_CONJ, что_CONJ,...</td>\n",
       "      <td>[1.0187650003481838, -0.013968473164046683, 0....</td>\n",
       "    </tr>\n",
       "  </tbody>\n",
       "</table>\n",
       "</div>"
      ],
      "text/plain": [
       "                                                text  class     cV    cR1  \\\n",
       "0  Будучи в прошлый четверг в Софии, он назвал се...      0    NaN    NaN   \n",
       "1  Работа с двухбайтовыми наборами символов — про...      1  92:99  83:91   \n",
       "2  Заместитель Генерального секретаря подчеркнул,...      0    NaN    NaN   \n",
       "3  Продажа недвижимости из собственных портфелей ...      0    NaN    NaN   \n",
       "4  Новым является то, что повышенное давление кон...      0    NaN    NaN   \n",
       "\n",
       "       cR2        V       R1       R2  \\\n",
       "0      NaN      NaN      NaN      NaN   \n",
       "1  103:109  127:127  119:124  127:134   \n",
       "2      NaN      NaN      NaN      NaN   \n",
       "3      NaN      NaN      NaN      NaN   \n",
       "4      NaN      NaN      NaN      NaN   \n",
       "\n",
       "                                          lemmas_pos  \\\n",
       "0  [быть_GRND, в_PREP, прошлый_ADJF, четверг_NOUN...   \n",
       "1  [работа_NOUN, с_PREP, двухбайтовый_ADJF, набор...   \n",
       "2  [заместитель_NOUN, генеральный_ADJF, секретари...   \n",
       "3  [продажа_NOUN, недвижимость_NOUN, из_PREP, соб...   \n",
       "4  [новый_ADJF, являться_VERB, то_CONJ, что_CONJ,...   \n",
       "\n",
       "                                             vectors  \n",
       "0  [0.168603191152215, -0.28739759884774685, 0.09...  \n",
       "1  [0.4240986340575748, 0.13711692641178766, 1.37...  \n",
       "2  [0.09843469476875137, -0.1834418819669415, 1.6...  \n",
       "3  [-0.15080114901065828, -0.33817869424819946, -...  \n",
       "4  [1.0187650003481838, -0.013968473164046683, 0....  "
      ]
     },
     "execution_count": 22,
     "metadata": {
      "tags": []
     },
     "output_type": "execute_result"
    }
   ],
   "source": [
    "train.head()"
   ]
  },
  {
   "cell_type": "code",
   "execution_count": 0,
   "metadata": {
    "colab": {},
    "colab_type": "code",
    "id": "NqFT79p8-_Sr"
   },
   "outputs": [],
   "source": [
    "X_train = np.stack(train['vectors'], axis=0)\n",
    "Y_train = np.stack(train['class'], axis=0)"
   ]
  },
  {
   "cell_type": "code",
   "execution_count": 24,
   "metadata": {
    "colab": {
     "base_uri": "https://localhost:8080/",
     "height": 139
    },
    "colab_type": "code",
    "id": "taecoED--_Su",
    "outputId": "9941552f-6f8e-484b-adf1-41720286f8d9"
   },
   "outputs": [
    {
     "name": "stdout",
     "output_type": "stream",
     "text": [
      "WARNING:tensorflow:From /usr/local/lib/python3.6/dist-packages/tensorflow/python/framework/op_def_library.py:263: colocate_with (from tensorflow.python.framework.ops) is deprecated and will be removed in a future version.\n",
      "Instructions for updating:\n",
      "Colocations handled automatically by placer.\n",
      "WARNING:tensorflow:From /usr/local/lib/python3.6/dist-packages/keras/backend/tensorflow_backend.py:3445: calling dropout (from tensorflow.python.ops.nn_ops) with keep_prob is deprecated and will be removed in a future version.\n",
      "Instructions for updating:\n",
      "Please use `rate` instead of `keep_prob`. Rate should be set to `rate = 1 - keep_prob`.\n"
     ]
    }
   ],
   "source": [
    "classifier = Sequential()\n",
    "\n",
    "classifier.add(Dense(500, activation='relu', kernel_initializer='random_normal', input_dim=300))\n",
    "classifier.add(Dropout(0.5))\n",
    "classifier.add(Dense(500, activation='relu', kernel_initializer='random_normal'))\n",
    "classifier.add(Dropout(0.5))\n",
    "classifier.add(Dense(1, activation='sigmoid', kernel_initializer='random_normal'))\n",
    "\n",
    "classifier.compile(optimizer ='adam',loss='binary_crossentropy', metrics =['accuracy'])"
   ]
  },
  {
   "cell_type": "code",
   "execution_count": 25,
   "metadata": {
    "colab": {
     "base_uri": "https://localhost:8080/",
     "height": 1703
    },
    "colab_type": "code",
    "id": "ySrEMD4J-_Sz",
    "outputId": "25f05c48-259e-4171-e74b-3956e7af8221"
   },
   "outputs": [
    {
     "name": "stdout",
     "output_type": "stream",
     "text": [
      "WARNING:tensorflow:From /usr/local/lib/python3.6/dist-packages/tensorflow/python/ops/math_ops.py:3066: to_int32 (from tensorflow.python.ops.math_ops) is deprecated and will be removed in a future version.\n",
      "Instructions for updating:\n",
      "Use tf.cast instead.\n",
      "Epoch 1/47\n",
      "16406/16406 [==============================] - 3s 170us/step - loss: 0.6172 - acc: 0.6755\n",
      "Epoch 2/47\n",
      "16406/16406 [==============================] - 2s 111us/step - loss: 0.5666 - acc: 0.7093\n",
      "Epoch 3/47\n",
      "16406/16406 [==============================] - 2s 110us/step - loss: 0.5496 - acc: 0.7232\n",
      "Epoch 4/47\n",
      "16406/16406 [==============================] - 2s 112us/step - loss: 0.5406 - acc: 0.7308\n",
      "Epoch 5/47\n",
      "16406/16406 [==============================] - 2s 110us/step - loss: 0.5270 - acc: 0.7383\n",
      "Epoch 6/47\n",
      "16406/16406 [==============================] - 2s 109us/step - loss: 0.5167 - acc: 0.7441\n",
      "Epoch 7/47\n",
      "16406/16406 [==============================] - 2s 109us/step - loss: 0.5046 - acc: 0.7549\n",
      "Epoch 8/47\n",
      "16406/16406 [==============================] - 2s 108us/step - loss: 0.4959 - acc: 0.7545\n",
      "Epoch 9/47\n",
      "16406/16406 [==============================] - 2s 109us/step - loss: 0.4868 - acc: 0.7638\n",
      "Epoch 10/47\n",
      "16406/16406 [==============================] - 2s 107us/step - loss: 0.4707 - acc: 0.7702\n",
      "Epoch 11/47\n",
      "16406/16406 [==============================] - 2s 109us/step - loss: 0.4614 - acc: 0.7748\n",
      "Epoch 12/47\n",
      "16406/16406 [==============================] - 2s 106us/step - loss: 0.4522 - acc: 0.7848\n",
      "Epoch 13/47\n",
      "16406/16406 [==============================] - 2s 108us/step - loss: 0.4400 - acc: 0.7913\n",
      "Epoch 14/47\n",
      "16406/16406 [==============================] - 2s 109us/step - loss: 0.4254 - acc: 0.7964\n",
      "Epoch 15/47\n",
      "16406/16406 [==============================] - 2s 109us/step - loss: 0.4223 - acc: 0.8053\n",
      "Epoch 16/47\n",
      "16406/16406 [==============================] - 2s 108us/step - loss: 0.4018 - acc: 0.8107\n",
      "Epoch 17/47\n",
      "16406/16406 [==============================] - 2s 108us/step - loss: 0.3922 - acc: 0.8170\n",
      "Epoch 18/47\n",
      "16406/16406 [==============================] - 2s 107us/step - loss: 0.3844 - acc: 0.8230\n",
      "Epoch 19/47\n",
      "16406/16406 [==============================] - 2s 107us/step - loss: 0.3721 - acc: 0.8279\n",
      "Epoch 20/47\n",
      "16406/16406 [==============================] - 2s 108us/step - loss: 0.3635 - acc: 0.8340\n",
      "Epoch 21/47\n",
      "16406/16406 [==============================] - 2s 108us/step - loss: 0.3531 - acc: 0.8400\n",
      "Epoch 22/47\n",
      "16406/16406 [==============================] - 2s 107us/step - loss: 0.3402 - acc: 0.8487\n",
      "Epoch 23/47\n",
      "16406/16406 [==============================] - 2s 108us/step - loss: 0.3320 - acc: 0.8510\n",
      "Epoch 24/47\n",
      "16406/16406 [==============================] - 2s 108us/step - loss: 0.3274 - acc: 0.8538\n",
      "Epoch 25/47\n",
      "16406/16406 [==============================] - 2s 106us/step - loss: 0.3157 - acc: 0.8596\n",
      "Epoch 26/47\n",
      "16406/16406 [==============================] - 2s 108us/step - loss: 0.3093 - acc: 0.8634\n",
      "Epoch 27/47\n",
      "16406/16406 [==============================] - 2s 107us/step - loss: 0.3019 - acc: 0.8652\n",
      "Epoch 28/47\n",
      "16406/16406 [==============================] - 2s 107us/step - loss: 0.2967 - acc: 0.8707\n",
      "Epoch 29/47\n",
      "16406/16406 [==============================] - 2s 107us/step - loss: 0.2869 - acc: 0.8780\n",
      "Epoch 30/47\n",
      "16406/16406 [==============================] - 2s 106us/step - loss: 0.2846 - acc: 0.8783\n",
      "Epoch 31/47\n",
      "16406/16406 [==============================] - 2s 107us/step - loss: 0.2749 - acc: 0.8825\n",
      "Epoch 32/47\n",
      "16406/16406 [==============================] - 2s 107us/step - loss: 0.2698 - acc: 0.8839\n",
      "Epoch 33/47\n",
      "16406/16406 [==============================] - 2s 107us/step - loss: 0.2662 - acc: 0.8849\n",
      "Epoch 34/47\n",
      "16406/16406 [==============================] - 2s 107us/step - loss: 0.2604 - acc: 0.8902\n",
      "Epoch 35/47\n",
      "16406/16406 [==============================] - 2s 110us/step - loss: 0.2504 - acc: 0.8948\n",
      "Epoch 36/47\n",
      "16406/16406 [==============================] - 2s 107us/step - loss: 0.2518 - acc: 0.8963\n",
      "Epoch 37/47\n",
      "16406/16406 [==============================] - 2s 107us/step - loss: 0.2442 - acc: 0.8994\n",
      "Epoch 38/47\n",
      "16406/16406 [==============================] - 2s 106us/step - loss: 0.2365 - acc: 0.9015\n",
      "Epoch 39/47\n",
      "16406/16406 [==============================] - 2s 108us/step - loss: 0.2424 - acc: 0.8993\n",
      "Epoch 40/47\n",
      "16406/16406 [==============================] - 2s 109us/step - loss: 0.2372 - acc: 0.9009\n",
      "Epoch 41/47\n",
      "16406/16406 [==============================] - 2s 107us/step - loss: 0.2333 - acc: 0.9024\n",
      "Epoch 42/47\n",
      "16406/16406 [==============================] - 2s 109us/step - loss: 0.2270 - acc: 0.9077\n",
      "Epoch 43/47\n",
      "16406/16406 [==============================] - 2s 108us/step - loss: 0.2210 - acc: 0.9105\n",
      "Epoch 44/47\n",
      "16406/16406 [==============================] - 2s 107us/step - loss: 0.2213 - acc: 0.9099\n",
      "Epoch 45/47\n",
      "16406/16406 [==============================] - 2s 108us/step - loss: 0.2184 - acc: 0.9130\n",
      "Epoch 46/47\n",
      "16406/16406 [==============================] - 2s 108us/step - loss: 0.2130 - acc: 0.9126\n",
      "Epoch 47/47\n",
      "16406/16406 [==============================] - 2s 108us/step - loss: 0.2051 - acc: 0.9183\n"
     ]
    },
    {
     "data": {
      "text/plain": [
       "<keras.callbacks.History at 0x7f3afeed8160>"
      ]
     },
     "execution_count": 25,
     "metadata": {
      "tags": []
     },
     "output_type": "execute_result"
    }
   ],
   "source": [
    "classifier.fit(X_train,Y_train, batch_size=50, epochs=47)"
   ]
  },
  {
   "cell_type": "markdown",
   "metadata": {
    "colab_type": "text",
    "id": "yA_6M4H7-_S_"
   },
   "source": [
    "### 6. Оценка результатов бинарной классификации"
   ]
  },
  {
   "cell_type": "code",
   "execution_count": 0,
   "metadata": {
    "colab": {},
    "colab_type": "code",
    "id": "0bg3ti8g-_TE"
   },
   "outputs": [],
   "source": [
    "X_test = np.stack(test['vectors'], axis=0)\n",
    "Y_test = np.stack(test['class'], axis=0)"
   ]
  },
  {
   "cell_type": "code",
   "execution_count": 0,
   "metadata": {
    "colab": {},
    "colab_type": "code",
    "id": "oBUr8zsS-_TO"
   },
   "outputs": [],
   "source": [
    "y_pred = classifier.predict_classes(X_test)"
   ]
  },
  {
   "cell_type": "code",
   "execution_count": 28,
   "metadata": {
    "colab": {
     "base_uri": "https://localhost:8080/",
     "height": 34
    },
    "colab_type": "code",
    "id": "Z0N6Bk9k-_TY",
    "outputId": "54ffcdf0-a779-4243-bcac-8578730e04bf"
   },
   "outputs": [
    {
     "data": {
      "text/plain": [
       "0.7246943765281174"
      ]
     },
     "execution_count": 28,
     "metadata": {
      "tags": []
     },
     "output_type": "execute_result"
    }
   ],
   "source": [
    "from sklearn.metrics import accuracy_score\n",
    "accuracy_score(Y_test, y_pred)"
   ]
  },
  {
   "cell_type": "code",
   "execution_count": 0,
   "metadata": {
    "colab": {},
    "colab_type": "code",
    "id": "LuHlCkKB-_Tn"
   },
   "outputs": [],
   "source": [
    "test_out = pd.DataFrame(columns=['text', 'class'])"
   ]
  },
  {
   "cell_type": "code",
   "execution_count": 0,
   "metadata": {
    "colab": {},
    "colab_type": "code",
    "id": "-0NWI8Ut-_Tq"
   },
   "outputs": [],
   "source": [
    "test_out.text = test.text"
   ]
  },
  {
   "cell_type": "code",
   "execution_count": 0,
   "metadata": {
    "colab": {},
    "colab_type": "code",
    "id": "AuaCBwnb-_Tx"
   },
   "outputs": [],
   "source": [
    "test_out['class'] = y_pred"
   ]
  },
  {
   "cell_type": "code",
   "execution_count": 32,
   "metadata": {
    "colab": {
     "base_uri": "https://localhost:8080/",
     "height": 204
    },
    "colab_type": "code",
    "id": "CO08_9ovJjIr",
    "outputId": "805c8b75-6dcc-4aec-bcdc-91c48cae5606"
   },
   "outputs": [
    {
     "data": {
      "text/html": [
       "<div>\n",
       "<style scoped>\n",
       "    .dataframe tbody tr th:only-of-type {\n",
       "        vertical-align: middle;\n",
       "    }\n",
       "\n",
       "    .dataframe tbody tr th {\n",
       "        vertical-align: top;\n",
       "    }\n",
       "\n",
       "    .dataframe thead th {\n",
       "        text-align: right;\n",
       "    }\n",
       "</style>\n",
       "<table border=\"1\" class=\"dataframe\">\n",
       "  <thead>\n",
       "    <tr style=\"text-align: right;\">\n",
       "      <th></th>\n",
       "      <th>text</th>\n",
       "      <th>class</th>\n",
       "    </tr>\n",
       "  </thead>\n",
       "  <tbody>\n",
       "    <tr>\n",
       "      <th>0</th>\n",
       "      <td>Изобретение относится к судостроению и касаетс...</td>\n",
       "      <td>0</td>\n",
       "    </tr>\n",
       "    <tr>\n",
       "      <th>1</th>\n",
       "      <td>Эти состояния называют фазами воды, а превраще...</td>\n",
       "      <td>1</td>\n",
       "    </tr>\n",
       "    <tr>\n",
       "      <th>2</th>\n",
       "      <td>И должен ни единой долькой  Не отступаться от ...</td>\n",
       "      <td>0</td>\n",
       "    </tr>\n",
       "    <tr>\n",
       "      <th>3</th>\n",
       "      <td>Он потребовал обеспечить полное осуществление ...</td>\n",
       "      <td>0</td>\n",
       "    </tr>\n",
       "    <tr>\n",
       "      <th>4</th>\n",
       "      <td>По мнению местного пастора Элла Эбанкса, запре...</td>\n",
       "      <td>0</td>\n",
       "    </tr>\n",
       "  </tbody>\n",
       "</table>\n",
       "</div>"
      ],
      "text/plain": [
       "                                                text  class\n",
       "0  Изобретение относится к судостроению и касаетс...      0\n",
       "1  Эти состояния называют фазами воды, а превраще...      1\n",
       "2  И должен ни единой долькой  Не отступаться от ...      0\n",
       "3  Он потребовал обеспечить полное осуществление ...      0\n",
       "4  По мнению местного пастора Элла Эбанкса, запре...      0"
      ]
     },
     "execution_count": 32,
     "metadata": {
      "tags": []
     },
     "output_type": "execute_result"
    }
   ],
   "source": [
    "test_out.head()"
   ]
  },
  {
   "cell_type": "code",
   "execution_count": 0,
   "metadata": {
    "colab": {},
    "colab_type": "code",
    "id": "ssjuI9IR-_T1"
   },
   "outputs": [],
   "source": [
    "test_out.to_csv('binary_out.csv', sep='\\t', encoding='utf-8')"
   ]
  },
  {
   "cell_type": "code",
   "execution_count": 34,
   "metadata": {
    "colab": {
     "base_uri": "https://localhost:8080/",
     "height": 272
    },
    "colab_type": "code",
    "id": "H2UMVc1rskx4",
    "outputId": "c6d310ac-9f20-4152-f133-8997d53134e8"
   },
   "outputs": [
    {
     "name": "stdout",
     "output_type": "stream",
     "text": [
      "--2019-05-02 11:05:29--  https://raw.githubusercontent.com/artemovae/ML-for-compling/master/homeworks/HW2/agrr_metrics.py\n",
      "Resolving raw.githubusercontent.com (raw.githubusercontent.com)... 151.101.0.133, 151.101.64.133, 151.101.128.133, ...\n",
      "Connecting to raw.githubusercontent.com (raw.githubusercontent.com)|151.101.0.133|:443... connected.\n",
      "HTTP request sent, awaiting response... 200 OK\n",
      "Length: 6101 (6.0K) [text/plain]\n",
      "Saving to: ‘agrr_metrics.py.7’\n",
      "\n",
      "\r",
      "agrr_metrics.py.7     0%[                    ]       0  --.-KB/s               \r",
      "agrr_metrics.py.7   100%[===================>]   5.96K  --.-KB/s    in 0s      \n",
      "\n",
      "2019-05-02 11:05:29 (80.2 MB/s) - ‘agrr_metrics.py.7’ saved [6101/6101]\n",
      "\n",
      "Binary classification quality (f1-score): 0.5288702928870294\n",
      "Other metrics: \n",
      " Precision: 0.6135922330097088\n",
      " Recall: 0.4647058823529412\n"
     ]
    }
   ],
   "source": [
    "!wget https://raw.githubusercontent.com/artemovae/ML-for-compling/master/homeworks/HW2/agrr_metrics.py\n",
    "!python agrr_metrics.py -b test.csv binary_out.csv"
   ]
  },
  {
   "cell_type": "markdown",
   "metadata": {
    "colab_type": "text",
    "id": "mYfBm9-D-_T7"
   },
   "source": [
    "### 7. Классификация последовательности"
   ]
  },
  {
   "cell_type": "markdown",
   "metadata": {
    "colab_type": "text",
    "id": "tARmXnkGaFFr"
   },
   "source": [
    "Воспользовались этим [гайдом](https://www.depends-on-the-definition.com/guide-sequence-tagging-neural-networks-python/)"
   ]
  },
  {
   "cell_type": "code",
   "execution_count": 0,
   "metadata": {
    "colab": {},
    "colab_type": "code",
    "id": "5oQ56kiP-_T7"
   },
   "outputs": [],
   "source": [
    "train_rnn = train_1[['text', 'class', 'io']].dropna(axis='index')\n",
    "train_rnn.reset_index(drop=True, inplace=True)"
   ]
  },
  {
   "cell_type": "code",
   "execution_count": 0,
   "metadata": {
    "colab": {},
    "colab_type": "code",
    "id": "kogVsi2D7AP0"
   },
   "outputs": [],
   "source": [
    "test_rnn = test[test['class'] == 1]"
   ]
  },
  {
   "cell_type": "code",
   "execution_count": 37,
   "metadata": {
    "colab": {
     "base_uri": "https://localhost:8080/",
     "height": 34
    },
    "colab_type": "code",
    "id": "JPMxzqek-_T-",
    "outputId": "b91952d0-658f-4fc9-8ed2-712dd02724b1"
   },
   "outputs": [
    {
     "data": {
      "text/plain": [
       "(5541, 3)"
      ]
     },
     "execution_count": 37,
     "metadata": {
      "tags": []
     },
     "output_type": "execute_result"
    }
   ],
   "source": [
    "train_rnn.shape"
   ]
  },
  {
   "cell_type": "code",
   "execution_count": 0,
   "metadata": {
    "colab": {},
    "colab_type": "code",
    "id": "8Rcj3EII-_UD"
   },
   "outputs": [],
   "source": [
    "def lemmatise(text):\n",
    "    text = [word.strip(punct) for word in text.lower().split()]\n",
    "    text = [morph.parse(word)[0].normal_form for word in text if word]\n",
    "    \n",
    "    return text"
   ]
  },
  {
   "cell_type": "code",
   "execution_count": 39,
   "metadata": {
    "colab": {
     "base_uri": "https://localhost:8080/",
     "height": 306
    },
    "colab_type": "code",
    "id": "ONvjy5kf-_UK",
    "outputId": "fc1ecb39-48b9-48a7-f337-bce0890c47e4"
   },
   "outputs": [
    {
     "name": "stderr",
     "output_type": "stream",
     "text": [
      "/usr/local/lib/python3.6/dist-packages/ipykernel_launcher.py:2: SettingWithCopyWarning: \n",
      "A value is trying to be set on a copy of a slice from a DataFrame.\n",
      "Try using .loc[row_indexer,col_indexer] = value instead\n",
      "\n",
      "See the caveats in the documentation: http://pandas.pydata.org/pandas-docs/stable/indexing.html#indexing-view-versus-copy\n",
      "  \n"
     ]
    },
    {
     "data": {
      "text/html": [
       "<div>\n",
       "<style scoped>\n",
       "    .dataframe tbody tr th:only-of-type {\n",
       "        vertical-align: middle;\n",
       "    }\n",
       "\n",
       "    .dataframe tbody tr th {\n",
       "        vertical-align: top;\n",
       "    }\n",
       "\n",
       "    .dataframe thead th {\n",
       "        text-align: right;\n",
       "    }\n",
       "</style>\n",
       "<table border=\"1\" class=\"dataframe\">\n",
       "  <thead>\n",
       "    <tr style=\"text-align: right;\">\n",
       "      <th></th>\n",
       "      <th>text</th>\n",
       "      <th>class</th>\n",
       "      <th>io</th>\n",
       "      <th>lemmas</th>\n",
       "    </tr>\n",
       "  </thead>\n",
       "  <tbody>\n",
       "    <tr>\n",
       "      <th>0</th>\n",
       "      <td>Работа с двухбайтовыми наборами символов — про...</td>\n",
       "      <td>1</td>\n",
       "      <td>O O O O O O O O O O O O I-R1 I-cR1 I-cV I-R2 I...</td>\n",
       "      <td>[работа, с, двухбайтовый, набор, символ, прост...</td>\n",
       "    </tr>\n",
       "    <tr>\n",
       "      <th>1</th>\n",
       "      <td>Выворачивает наизнанку, запад превращает в юг,...</td>\n",
       "      <td>1</td>\n",
       "      <td>O O I-cR1 I-cV I-R2 I-cR2 O I-R1 O I-R2 I-R2 O...</td>\n",
       "      <td>[выворачивать, наизнанку, запад, превращать, в...</td>\n",
       "    </tr>\n",
       "    <tr>\n",
       "      <th>2</th>\n",
       "      <td>Текущие обязательства компании в 2009 г. сокра...</td>\n",
       "      <td>1</td>\n",
       "      <td>O I-cR1 O O O O O I-R2 O O I-R2 O O I-R2 I-cR1...</td>\n",
       "      <td>[текущий, обязательство, компания, в, 2009, го...</td>\n",
       "    </tr>\n",
       "    <tr>\n",
       "      <th>3</th>\n",
       "      <td>Первая конвенция была ратифицирована 80 процен...</td>\n",
       "      <td>1</td>\n",
       "      <td>I-cR1 I-cR1 O I-cV I-cR2 I-R2 I-R2 O I-cR2 I-c...</td>\n",
       "      <td>[один, конвенция, быть, ратифицировать, 80, пр...</td>\n",
       "    </tr>\n",
       "    <tr>\n",
       "      <th>4</th>\n",
       "      <td>Но Христианин сказал Упрямому: — Нет, сосед, л...</td>\n",
       "      <td>1</td>\n",
       "      <td>O O O O O O O O O O O O O O O O O I-cV O I-cR1...</td>\n",
       "      <td>[но, христианин, сказать, упрямый, нет, сосед,...</td>\n",
       "    </tr>\n",
       "  </tbody>\n",
       "</table>\n",
       "</div>"
      ],
      "text/plain": [
       "                                                text  class  \\\n",
       "0  Работа с двухбайтовыми наборами символов — про...      1   \n",
       "1  Выворачивает наизнанку, запад превращает в юг,...      1   \n",
       "2  Текущие обязательства компании в 2009 г. сокра...      1   \n",
       "3  Первая конвенция была ратифицирована 80 процен...      1   \n",
       "4  Но Христианин сказал Упрямому: — Нет, сосед, л...      1   \n",
       "\n",
       "                                                  io  \\\n",
       "0  O O O O O O O O O O O O I-R1 I-cR1 I-cV I-R2 I...   \n",
       "1  O O I-cR1 I-cV I-R2 I-cR2 O I-R1 O I-R2 I-R2 O...   \n",
       "2  O I-cR1 O O O O O I-R2 O O I-R2 O O I-R2 I-cR1...   \n",
       "3  I-cR1 I-cR1 O I-cV I-cR2 I-R2 I-R2 O I-cR2 I-c...   \n",
       "4  O O O O O O O O O O O O O O O O O I-cV O I-cR1...   \n",
       "\n",
       "                                              lemmas  \n",
       "0  [работа, с, двухбайтовый, набор, символ, прост...  \n",
       "1  [выворачивать, наизнанку, запад, превращать, в...  \n",
       "2  [текущий, обязательство, компания, в, 2009, го...  \n",
       "3  [один, конвенция, быть, ратифицировать, 80, пр...  \n",
       "4  [но, христианин, сказать, упрямый, нет, сосед,...  "
      ]
     },
     "execution_count": 39,
     "metadata": {
      "tags": []
     },
     "output_type": "execute_result"
    }
   ],
   "source": [
    "train_rnn['lemmas'] = train_rnn.text.apply(lemmatise)\n",
    "test_rnn['lemmas'] = test_rnn.text.apply(lemmatise)\n",
    "\n",
    "train_rnn.head()"
   ]
  },
  {
   "cell_type": "code",
   "execution_count": 40,
   "metadata": {
    "colab": {
     "base_uri": "https://localhost:8080/",
     "height": 119
    },
    "colab_type": "code",
    "id": "8GKu6EgP-_UQ",
    "outputId": "44e4ed0d-393a-4148-e50f-df4f68a949c9"
   },
   "outputs": [
    {
     "name": "stdout",
     "output_type": "stream",
     "text": [
      "18894\n",
      "(0, 'гейша')\n",
      "(1, 'usb')\n",
      "(2, '103,0')\n",
      "(3, 'кроссовок')\n",
      "(4, 'выиграть')\n"
     ]
    }
   ],
   "source": [
    "from itertools import chain\n",
    "\n",
    "all_words = set(list(chain.from_iterable(train_rnn.lemmas)) + list(chain.from_iterable(test_rnn.lemmas)))\n",
    "\n",
    "id2word = {index: word for index, word in enumerate(all_words)}\n",
    "\n",
    "size_words = len(id2word.items())\n",
    "\n",
    "print(size_words, *list(id2word.items())[:5], sep='\\n')\n",
    "\n",
    "id2word[size_words] = 'ENDPAD'"
   ]
  },
  {
   "cell_type": "code",
   "execution_count": 41,
   "metadata": {
    "colab": {
     "base_uri": "https://localhost:8080/",
     "height": 357
    },
    "colab_type": "code",
    "id": "Kn9niq0A7dal",
    "outputId": "3f71e4cc-613b-4934-96fe-eee238b7802e"
   },
   "outputs": [
    {
     "data": {
      "text/html": [
       "<div>\n",
       "<style scoped>\n",
       "    .dataframe tbody tr th:only-of-type {\n",
       "        vertical-align: middle;\n",
       "    }\n",
       "\n",
       "    .dataframe tbody tr th {\n",
       "        vertical-align: top;\n",
       "    }\n",
       "\n",
       "    .dataframe thead th {\n",
       "        text-align: right;\n",
       "    }\n",
       "</style>\n",
       "<table border=\"1\" class=\"dataframe\">\n",
       "  <thead>\n",
       "    <tr style=\"text-align: right;\">\n",
       "      <th></th>\n",
       "      <th>text</th>\n",
       "      <th>class</th>\n",
       "      <th>cV</th>\n",
       "      <th>cR1</th>\n",
       "      <th>cR2</th>\n",
       "      <th>V</th>\n",
       "      <th>R1</th>\n",
       "      <th>R2</th>\n",
       "      <th>lemmas_pos</th>\n",
       "      <th>vectors</th>\n",
       "      <th>lemmas</th>\n",
       "    </tr>\n",
       "  </thead>\n",
       "  <tbody>\n",
       "    <tr>\n",
       "      <th>1</th>\n",
       "      <td>Эти состояния называют фазами воды, а превраще...</td>\n",
       "      <td>1</td>\n",
       "      <td>14:22</td>\n",
       "      <td>0:13</td>\n",
       "      <td>23:34</td>\n",
       "      <td>81:81</td>\n",
       "      <td>38:78</td>\n",
       "      <td>81:100</td>\n",
       "      <td>[этот_ADJF, состояние_NOUN, называть_VERB, фаз...</td>\n",
       "      <td>[1.3254939317703247, -0.590305113366672, 1.324...</td>\n",
       "      <td>[этот, состояние, называть, фаза, вода, а, пре...</td>\n",
       "    </tr>\n",
       "    <tr>\n",
       "      <th>7</th>\n",
       "      <td>Два валяются в воде, два на призовых местах.</td>\n",
       "      <td>1</td>\n",
       "      <td>4:12</td>\n",
       "      <td>0:3</td>\n",
       "      <td>13:19</td>\n",
       "      <td>25:25</td>\n",
       "      <td>21:24</td>\n",
       "      <td>25:43</td>\n",
       "      <td>[два_NUMR, валяться_VERB, в_PREP, вода_NOUN, д...</td>\n",
       "      <td>[0.001960158348083496, 0.14662458995978037, -1...</td>\n",
       "      <td>[два, валяться, в, вода, два, на, призовой, ме...</td>\n",
       "    </tr>\n",
       "    <tr>\n",
       "      <th>8</th>\n",
       "      <td>В тоже время в обоих двоичных деревьях узел 3 ...</td>\n",
       "      <td>1</td>\n",
       "      <td>46:54</td>\n",
       "      <td>39:45</td>\n",
       "      <td>55:73</td>\n",
       "      <td>86:86</td>\n",
       "      <td>77:83</td>\n",
       "      <td>86:113</td>\n",
       "      <td>[в_PREP, тоже_ADVB, время_NOUN, в_PREP, оба_NU...</td>\n",
       "      <td>[0.9998672127723693, 0.2926726579666138, 0.056...</td>\n",
       "      <td>[в, тоже, время, в, оба, двоичный, дерево, узе...</td>\n",
       "    </tr>\n",
       "    <tr>\n",
       "      <th>11</th>\n",
       "      <td>Описание структуры CREATESTRUCT приводится ниж...</td>\n",
       "      <td>1</td>\n",
       "      <td>32:42</td>\n",
       "      <td>0:31</td>\n",
       "      <td>43:47</td>\n",
       "      <td>88:88</td>\n",
       "      <td>51:85</td>\n",
       "      <td>88:133</td>\n",
       "      <td>[описание_NOUN, структура_NOUN, createstruct_N...</td>\n",
       "      <td>[0.5813497773238591, 0.7262205224750298, -0.55...</td>\n",
       "      <td>[описание, структура, createstruct, приводитьс...</td>\n",
       "    </tr>\n",
       "    <tr>\n",
       "      <th>21</th>\n",
       "      <td>В Библии, в предсказаниях пророка Иоиля сказан...</td>\n",
       "      <td>1</td>\n",
       "      <td>86:97</td>\n",
       "      <td>79:85</td>\n",
       "      <td>98:105</td>\n",
       "      <td>113:113</td>\n",
       "      <td>108:112</td>\n",
       "      <td>113:120</td>\n",
       "      <td>[в_PREP, библия_NOUN, в_PREP, предсказание_NOU...</td>\n",
       "      <td>[-0.22539916187524794, -0.5959431514143944, 0....</td>\n",
       "      <td>[в, библия, в, предсказание, пророк, иоиль, ск...</td>\n",
       "    </tr>\n",
       "  </tbody>\n",
       "</table>\n",
       "</div>"
      ],
      "text/plain": [
       "                                                 text  class     cV    cR1  \\\n",
       "1   Эти состояния называют фазами воды, а превраще...      1  14:22   0:13   \n",
       "7        Два валяются в воде, два на призовых местах.      1   4:12    0:3   \n",
       "8   В тоже время в обоих двоичных деревьях узел 3 ...      1  46:54  39:45   \n",
       "11  Описание структуры CREATESTRUCT приводится ниж...      1  32:42   0:31   \n",
       "21  В Библии, в предсказаниях пророка Иоиля сказан...      1  86:97  79:85   \n",
       "\n",
       "       cR2        V       R1       R2  \\\n",
       "1    23:34    81:81    38:78   81:100   \n",
       "7    13:19    25:25    21:24    25:43   \n",
       "8    55:73    86:86    77:83   86:113   \n",
       "11   43:47    88:88    51:85   88:133   \n",
       "21  98:105  113:113  108:112  113:120   \n",
       "\n",
       "                                           lemmas_pos  \\\n",
       "1   [этот_ADJF, состояние_NOUN, называть_VERB, фаз...   \n",
       "7   [два_NUMR, валяться_VERB, в_PREP, вода_NOUN, д...   \n",
       "8   [в_PREP, тоже_ADVB, время_NOUN, в_PREP, оба_NU...   \n",
       "11  [описание_NOUN, структура_NOUN, createstruct_N...   \n",
       "21  [в_PREP, библия_NOUN, в_PREP, предсказание_NOU...   \n",
       "\n",
       "                                              vectors  \\\n",
       "1   [1.3254939317703247, -0.590305113366672, 1.324...   \n",
       "7   [0.001960158348083496, 0.14662458995978037, -1...   \n",
       "8   [0.9998672127723693, 0.2926726579666138, 0.056...   \n",
       "11  [0.5813497773238591, 0.7262205224750298, -0.55...   \n",
       "21  [-0.22539916187524794, -0.5959431514143944, 0....   \n",
       "\n",
       "                                               lemmas  \n",
       "1   [этот, состояние, называть, фаза, вода, а, пре...  \n",
       "7   [два, валяться, в, вода, два, на, призовой, ме...  \n",
       "8   [в, тоже, время, в, оба, двоичный, дерево, узе...  \n",
       "11  [описание, структура, createstruct, приводитьс...  \n",
       "21  [в, библия, в, предсказание, пророк, иоиль, ск...  "
      ]
     },
     "execution_count": 41,
     "metadata": {
      "tags": []
     },
     "output_type": "execute_result"
    }
   ],
   "source": [
    "test_rnn.head()"
   ]
  },
  {
   "cell_type": "code",
   "execution_count": 0,
   "metadata": {
    "colab": {},
    "colab_type": "code",
    "id": "HU2HqOwR-_UX"
   },
   "outputs": [],
   "source": [
    "def sent2id(dataframe):\n",
    "  \n",
    "  word2id = {word: idx for idx, word in id2word.items()}\n",
    "  \n",
    "  sentence2index = [[word2id[word] for word in sentence] for sentence in \\\n",
    "                    dataframe.lemmas.tolist()]\n",
    "  \n",
    "  return sentence2index"
   ]
  },
  {
   "cell_type": "code",
   "execution_count": 43,
   "metadata": {
    "colab": {
     "base_uri": "https://localhost:8080/",
     "height": 34
    },
    "colab_type": "code",
    "id": "aWe3XBRT-_UZ",
    "outputId": "b2b117a0-cf55-4a80-c199-e61201bee9bf"
   },
   "outputs": [
    {
     "name": "stdout",
     "output_type": "stream",
     "text": [
      "6874 5347 6628 16832 10023 13205 15288 540 5830 5925 17644 2721 17224 3394 3058 1562 14075 2996 2721 3058 8677\n"
     ]
    }
   ],
   "source": [
    "x = sent2id(dataframe=train_rnn)\n",
    "test_x = sent2id(dataframe=test_rnn)\n",
    "\n",
    "print(*x[0])"
   ]
  },
  {
   "cell_type": "code",
   "execution_count": 44,
   "metadata": {
    "colab": {
     "base_uri": "https://localhost:8080/",
     "height": 119
    },
    "colab_type": "code",
    "id": "GByYq6LB-_UV",
    "outputId": "791005a1-9153-4fde-ca9b-85da49947f67"
   },
   "outputs": [
    {
     "name": "stdout",
     "output_type": "stream",
     "text": [
      "(0, 'I-cR2')\n",
      "(1, 'O')\n",
      "(2, 'I-cR1')\n",
      "(3, 'I-R1')\n",
      "(4, 'I-cV')\n",
      "(5, 'I-R2')\n"
     ]
    }
   ],
   "source": [
    "unique_io_tags = set(' '.join(train_rnn.io.tolist()).split())\n",
    "\n",
    "id2tag = {index: tag for index, tag in enumerate(unique_io_tags)}\n",
    "\n",
    "print(*list(id2tag.items()), sep='\\n')"
   ]
  },
  {
   "cell_type": "code",
   "execution_count": 45,
   "metadata": {
    "colab": {
     "base_uri": "https://localhost:8080/",
     "height": 34
    },
    "colab_type": "code",
    "id": "Nx34s2RX-_Ue",
    "outputId": "e9e347aa-650b-4989-d0c7-e42f37600b90"
   },
   "outputs": [
    {
     "data": {
      "text/plain": [
       "[1, 1, 1, 1, 1, 1, 1, 1, 1, 1, 1, 1, 3, 2, 4, 5, 0, 1, 1, 3, 1, 5, 5]"
      ]
     },
     "execution_count": 45,
     "metadata": {
      "tags": []
     },
     "output_type": "execute_result"
    }
   ],
   "source": [
    "tag2id = {tag: idx for idx, tag in id2tag.items()}\n",
    "y = [[tag2id[tag] for tag in annotation.split()] for annotation in train_rnn.io.tolist()]\n",
    "size_tags = len(unique_io_tags)\n",
    "y[0]"
   ]
  },
  {
   "cell_type": "code",
   "execution_count": 46,
   "metadata": {
    "colab": {
     "base_uri": "https://localhost:8080/",
     "height": 490
    },
    "colab_type": "code",
    "id": "zbWBbdW7-_Uh",
    "outputId": "0734e54d-0d2c-4136-c2c3-580d8299c0a1"
   },
   "outputs": [
    {
     "data": {
      "text/plain": [
       "(array([378., 464., 822., 536., 792., 510., 567., 322., 366., 213., 188.,\n",
       "         82.,  95.,  59.,  61.,  23.,  22.,   8.,  12.,   3.,   4.,   4.,\n",
       "          1.,   1.,   2.,   1.,   0.,   2.,   0.,   0.,   0.,   0.,   0.,\n",
       "          1.,   0.,   1.,   0.,   0.,   0.,   0.,   0.,   0.,   0.,   0.,\n",
       "          0.,   0.,   0.,   0.,   0.,   1.]),\n",
       " array([  5.  ,   7.48,   9.96,  12.44,  14.92,  17.4 ,  19.88,  22.36,\n",
       "         24.84,  27.32,  29.8 ,  32.28,  34.76,  37.24,  39.72,  42.2 ,\n",
       "         44.68,  47.16,  49.64,  52.12,  54.6 ,  57.08,  59.56,  62.04,\n",
       "         64.52,  67.  ,  69.48,  71.96,  74.44,  76.92,  79.4 ,  81.88,\n",
       "         84.36,  86.84,  89.32,  91.8 ,  94.28,  96.76,  99.24, 101.72,\n",
       "        104.2 , 106.68, 109.16, 111.64, 114.12, 116.6 , 119.08, 121.56,\n",
       "        124.04, 126.52, 129.  ]),\n",
       " <a list of 50 Patch objects>)"
      ]
     },
     "execution_count": 46,
     "metadata": {
      "tags": []
     },
     "output_type": "execute_result"
    },
    {
     "data": {
      "image/png": "[encoded data removed]",
      "text/plain": [
       "<Figure size 432x288 with 1 Axes>"
      ]
     },
     "metadata": {
      "tags": []
     },
     "output_type": "display_data"
    }
   ],
   "source": [
    "import matplotlib.pyplot as plt\n",
    "\n",
    "plt.style.use(\"ggplot\")\n",
    "plt.hist([len(s) for s in x], bins=50)"
   ]
  },
  {
   "cell_type": "code",
   "execution_count": 0,
   "metadata": {
    "colab": {},
    "colab_type": "code",
    "id": "sUlyU9Nr-_Un"
   },
   "outputs": [],
   "source": [
    "from keras.preprocessing.sequence import pad_sequences\n",
    "\n",
    "max_len = 50\n",
    "x_train = pad_sequences(maxlen=max_len, sequences=x, padding='post', value=size_words)\n",
    "y_train = pad_sequences(maxlen=max_len, sequences=y, padding='post', value=tag2id['O'])\n",
    "x_test = pad_sequences(maxlen=max_len, sequences=test_x, padding='post', value=size_words)"
   ]
  },
  {
   "cell_type": "code",
   "execution_count": 48,
   "metadata": {
    "colab": {
     "base_uri": "https://localhost:8080/",
     "height": 34
    },
    "colab_type": "code",
    "id": "Yrg-Y0U2-_Ux",
    "outputId": "c21fb218-8898-4b8a-8624-68765894b06e"
   },
   "outputs": [
    {
     "data": {
      "text/plain": [
       "(5541, 50, 6)"
      ]
     },
     "execution_count": 48,
     "metadata": {
      "tags": []
     },
     "output_type": "execute_result"
    }
   ],
   "source": [
    "from keras.utils import to_categorical\n",
    "\n",
    "y_train = [to_categorical(i, num_classes=size_tags) for i in y_train]\n",
    "np.array(y_train).shape"
   ]
  },
  {
   "cell_type": "code",
   "execution_count": 0,
   "metadata": {
    "colab": {},
    "colab_type": "code",
    "id": "-GD_egjF-_U7"
   },
   "outputs": [],
   "source": [
    "input = Input(shape=(max_len,))\n",
    "model = Embedding(input_dim=size_words, output_dim=50, input_length=max_len)(input) \n",
    "model = Dropout(0.1)(model) \n",
    "model = Bidirectional(LSTM(units=100, return_sequences=True, recurrent_dropout=0.1))(model)\n",
    "out = TimeDistributed(Dense(size_tags, activation=\"softmax\"))(model)\n",
    "model = Model(input, out)"
   ]
  },
  {
   "cell_type": "code",
   "execution_count": 50,
   "metadata": {
    "colab": {
     "base_uri": "https://localhost:8080/",
     "height": 374
    },
    "colab_type": "code",
    "id": "GDdCEc1Q-_U9",
    "outputId": "4e2ff63a-f90d-43f6-90ab-575e5a39aec6"
   },
   "outputs": [
    {
     "name": "stdout",
     "output_type": "stream",
     "text": [
      "Train on 4432 samples, validate on 1109 samples\n",
      "Epoch 1/10\n",
      "4432/4432 [==============================] - 39s 9ms/step - loss: 0.7981 - acc: 0.7705 - val_loss: 0.6326 - val_acc: 0.7797\n",
      "Epoch 2/10\n",
      "4432/4432 [==============================] - 37s 8ms/step - loss: 0.5611 - acc: 0.7909 - val_loss: 0.4847 - val_acc: 0.8136\n",
      "Epoch 3/10\n",
      "4432/4432 [==============================] - 38s 9ms/step - loss: 0.4412 - acc: 0.8275 - val_loss: 0.4492 - val_acc: 0.8254\n",
      "Epoch 4/10\n",
      "4432/4432 [==============================] - 38s 8ms/step - loss: 0.3725 - acc: 0.8555 - val_loss: 0.4206 - val_acc: 0.8398\n",
      "Epoch 5/10\n",
      "4432/4432 [==============================] - 38s 8ms/step - loss: 0.3199 - acc: 0.8784 - val_loss: 0.4218 - val_acc: 0.8417\n",
      "Epoch 6/10\n",
      "4432/4432 [==============================] - 38s 9ms/step - loss: 0.2823 - acc: 0.8933 - val_loss: 0.4244 - val_acc: 0.8448\n",
      "Epoch 7/10\n",
      "4432/4432 [==============================] - 38s 9ms/step - loss: 0.2519 - acc: 0.9065 - val_loss: 0.4286 - val_acc: 0.8461\n",
      "Epoch 8/10\n",
      "4432/4432 [==============================] - 38s 9ms/step - loss: 0.2262 - acc: 0.9166 - val_loss: 0.4480 - val_acc: 0.8464\n",
      "Epoch 9/10\n",
      "4432/4432 [==============================] - 38s 9ms/step - loss: 0.2047 - acc: 0.9249 - val_loss: 0.4641 - val_acc: 0.8477\n",
      "Epoch 10/10\n",
      "4432/4432 [==============================] - 38s 9ms/step - loss: 0.1861 - acc: 0.9321 - val_loss: 0.5023 - val_acc: 0.8492\n"
     ]
    }
   ],
   "source": [
    "model.compile(optimizer='adam', loss='categorical_crossentropy', metrics=['accuracy'])\n",
    "history = model.fit(x_train, np.array(y_train), batch_size=32, epochs=10, validation_split=0.2, verbose=1)"
   ]
  },
  {
   "cell_type": "code",
   "execution_count": 51,
   "metadata": {
    "colab": {
     "base_uri": "https://localhost:8080/",
     "height": 395
    },
    "colab_type": "code",
    "id": "UH6UYyRB-_VA",
    "outputId": "9250df68-97bb-498c-a56a-52ba5a725bd7"
   },
   "outputs": [
    {
     "data": {
      "text/plain": [
       "[<matplotlib.lines.Line2D at 0x7f3ad8c5a5f8>]"
      ]
     },
     "execution_count": 51,
     "metadata": {
      "tags": []
     },
     "output_type": "execute_result"
    },
    {
     "data": {
      "image/png": "[encoded data removed]",
      "text/plain": [
       "<Figure size 432x432 with 1 Axes>"
      ]
     },
     "metadata": {
      "tags": []
     },
     "output_type": "display_data"
    }
   ],
   "source": [
    "hist = pd.DataFrame(history.history, index=range(1,11))\n",
    "plt.figure(figsize=(6,6))\n",
    "plt.plot(hist['acc'])\n",
    "plt.plot(hist['val_acc'])"
   ]
  },
  {
   "cell_type": "markdown",
   "metadata": {
    "colab_type": "text",
    "id": "LzfvYGC5K7bM"
   },
   "source": [
    "### 8. Оценка результатов полной разметки"
   ]
  },
  {
   "cell_type": "code",
   "execution_count": 52,
   "metadata": {
    "colab": {
     "base_uri": "https://localhost:8080/",
     "height": 119
    },
    "colab_type": "code",
    "id": "kZJQVNEVm59g",
    "outputId": "478ac632-7746-4b60-fc22-d3ad2834133d"
   },
   "outputs": [
    {
     "name": "stderr",
     "output_type": "stream",
     "text": [
      "/usr/local/lib/python3.6/dist-packages/ipykernel_launcher.py:1: SettingWithCopyWarning: \n",
      "A value is trying to be set on a copy of a slice from a DataFrame.\n",
      "Try using .loc[row_indexer,col_indexer] = value instead\n",
      "\n",
      "See the caveats in the documentation: http://pandas.pydata.org/pandas-docs/stable/indexing.html#indexing-view-versus-copy\n",
      "  \"\"\"Entry point for launching an IPython kernel.\n"
     ]
    }
   ],
   "source": [
    "test_rnn['vectors'] = x_test.tolist()"
   ]
  },
  {
   "cell_type": "code",
   "execution_count": 0,
   "metadata": {
    "colab": {},
    "colab_type": "code",
    "id": "7aN8SW3XnUQC"
   },
   "outputs": [],
   "source": [
    "def predict(vector):\n",
    "  p = model.predict(np.array([vector]))\n",
    "  p = np.argmax(p, axis=-1)\n",
    "  pred_io = [id2tag[pred] for word, pred in zip(vector, p[0]) if id2word[word] != 'ENDPAD']\n",
    "  return ' '.join(pred_io)"
   ]
  },
  {
   "cell_type": "code",
   "execution_count": 54,
   "metadata": {
    "colab": {
     "base_uri": "https://localhost:8080/",
     "height": 119
    },
    "colab_type": "code",
    "id": "fx2UQub9nWqv",
    "outputId": "f8ded5cd-7455-42e2-b8c4-4df57f6f4f4c"
   },
   "outputs": [
    {
     "name": "stderr",
     "output_type": "stream",
     "text": [
      "/usr/local/lib/python3.6/dist-packages/ipykernel_launcher.py:1: SettingWithCopyWarning: \n",
      "A value is trying to be set on a copy of a slice from a DataFrame.\n",
      "Try using .loc[row_indexer,col_indexer] = value instead\n",
      "\n",
      "See the caveats in the documentation: http://pandas.pydata.org/pandas-docs/stable/indexing.html#indexing-view-versus-copy\n",
      "  \"\"\"Entry point for launching an IPython kernel.\n"
     ]
    }
   ],
   "source": [
    "test_rnn['io_prediction'] = test_rnn['vectors'].apply(predict)"
   ]
  },
  {
   "cell_type": "code",
   "execution_count": 0,
   "metadata": {
    "colab": {},
    "colab_type": "code",
    "id": "-jS9kA4HtNk1"
   },
   "outputs": [],
   "source": [
    "test['io_prediction'] = test_rnn['io_prediction']"
   ]
  },
  {
   "cell_type": "code",
   "execution_count": 57,
   "metadata": {
    "colab": {
     "base_uri": "https://localhost:8080/",
     "height": 289
    },
    "colab_type": "code",
    "id": "Grig7ypy4NsN",
    "outputId": "391edad1-d4b5-4f82-960f-a72eec450598"
   },
   "outputs": [
    {
     "data": {
      "text/html": [
       "<div>\n",
       "<style scoped>\n",
       "    .dataframe tbody tr th:only-of-type {\n",
       "        vertical-align: middle;\n",
       "    }\n",
       "\n",
       "    .dataframe tbody tr th {\n",
       "        vertical-align: top;\n",
       "    }\n",
       "\n",
       "    .dataframe thead th {\n",
       "        text-align: right;\n",
       "    }\n",
       "</style>\n",
       "<table border=\"1\" class=\"dataframe\">\n",
       "  <thead>\n",
       "    <tr style=\"text-align: right;\">\n",
       "      <th></th>\n",
       "      <th>text</th>\n",
       "      <th>class</th>\n",
       "      <th>cV</th>\n",
       "      <th>cR1</th>\n",
       "      <th>cR2</th>\n",
       "      <th>V</th>\n",
       "      <th>R1</th>\n",
       "      <th>R2</th>\n",
       "      <th>lemmas_pos</th>\n",
       "      <th>vectors</th>\n",
       "      <th>io_prediction</th>\n",
       "    </tr>\n",
       "  </thead>\n",
       "  <tbody>\n",
       "    <tr>\n",
       "      <th>0</th>\n",
       "      <td>Изобретение относится к судостроению и касаетс...</td>\n",
       "      <td>0</td>\n",
       "      <td>NaN</td>\n",
       "      <td>NaN</td>\n",
       "      <td>NaN</td>\n",
       "      <td>NaN</td>\n",
       "      <td>NaN</td>\n",
       "      <td>NaN</td>\n",
       "      <td>[изобретение_NOUN, относиться_VERB, к_PREP, су...</td>\n",
       "      <td>[0.0062005452811717985, -0.43120876252651213, ...</td>\n",
       "      <td>NaN</td>\n",
       "    </tr>\n",
       "    <tr>\n",
       "      <th>1</th>\n",
       "      <td>Эти состояния называют фазами воды, а превраще...</td>\n",
       "      <td>1</td>\n",
       "      <td>14:22</td>\n",
       "      <td>0:13</td>\n",
       "      <td>23:34</td>\n",
       "      <td>81:81</td>\n",
       "      <td>38:78</td>\n",
       "      <td>81:100</td>\n",
       "      <td>[этот_ADJF, состояние_NOUN, называть_VERB, фаз...</td>\n",
       "      <td>[1.3254939317703247, -0.590305113366672, 1.324...</td>\n",
       "      <td>O I-cR1 I-cV I-cR2 O O O I-R1 I-R1 I-R1 I-R2 I...</td>\n",
       "    </tr>\n",
       "    <tr>\n",
       "      <th>2</th>\n",
       "      <td>И должен ни единой долькой  Не отступаться от ...</td>\n",
       "      <td>0</td>\n",
       "      <td>NaN</td>\n",
       "      <td>NaN</td>\n",
       "      <td>NaN</td>\n",
       "      <td>NaN</td>\n",
       "      <td>NaN</td>\n",
       "      <td>NaN</td>\n",
       "      <td>[и_CONJ, должный_ADJS, ни_PRCL, единый_ADJF, д...</td>\n",
       "      <td>[0.44970626446108025, -0.9549528261025747, -0....</td>\n",
       "      <td>NaN</td>\n",
       "    </tr>\n",
       "    <tr>\n",
       "      <th>3</th>\n",
       "      <td>Он потребовал обеспечить полное осуществление ...</td>\n",
       "      <td>0</td>\n",
       "      <td>NaN</td>\n",
       "      <td>NaN</td>\n",
       "      <td>NaN</td>\n",
       "      <td>NaN</td>\n",
       "      <td>NaN</td>\n",
       "      <td>NaN</td>\n",
       "      <td>[он_NPRO, потребовать_VERB, обеспечить_INFN, п...</td>\n",
       "      <td>[0.5796275761994448, -0.7381095398556102, 0.68...</td>\n",
       "      <td>NaN</td>\n",
       "    </tr>\n",
       "    <tr>\n",
       "      <th>4</th>\n",
       "      <td>По мнению местного пастора Элла Эбанкса, запре...</td>\n",
       "      <td>0</td>\n",
       "      <td>NaN</td>\n",
       "      <td>NaN</td>\n",
       "      <td>NaN</td>\n",
       "      <td>NaN</td>\n",
       "      <td>NaN</td>\n",
       "      <td>NaN</td>\n",
       "      <td>[по_PREP, мнение_NOUN, местный_ADJF, пастор_NO...</td>\n",
       "      <td>[0.6148717587606775, -0.539965526925193, 1.216...</td>\n",
       "      <td>NaN</td>\n",
       "    </tr>\n",
       "  </tbody>\n",
       "</table>\n",
       "</div>"
      ],
      "text/plain": [
       "                                                text  class     cV   cR1  \\\n",
       "0  Изобретение относится к судостроению и касаетс...      0    NaN   NaN   \n",
       "1  Эти состояния называют фазами воды, а превраще...      1  14:22  0:13   \n",
       "2  И должен ни единой долькой  Не отступаться от ...      0    NaN   NaN   \n",
       "3  Он потребовал обеспечить полное осуществление ...      0    NaN   NaN   \n",
       "4  По мнению местного пастора Элла Эбанкса, запре...      0    NaN   NaN   \n",
       "\n",
       "     cR2      V     R1      R2  \\\n",
       "0    NaN    NaN    NaN     NaN   \n",
       "1  23:34  81:81  38:78  81:100   \n",
       "2    NaN    NaN    NaN     NaN   \n",
       "3    NaN    NaN    NaN     NaN   \n",
       "4    NaN    NaN    NaN     NaN   \n",
       "\n",
       "                                          lemmas_pos  \\\n",
       "0  [изобретение_NOUN, относиться_VERB, к_PREP, су...   \n",
       "1  [этот_ADJF, состояние_NOUN, называть_VERB, фаз...   \n",
       "2  [и_CONJ, должный_ADJS, ни_PRCL, единый_ADJF, д...   \n",
       "3  [он_NPRO, потребовать_VERB, обеспечить_INFN, п...   \n",
       "4  [по_PREP, мнение_NOUN, местный_ADJF, пастор_NO...   \n",
       "\n",
       "                                             vectors  \\\n",
       "0  [0.0062005452811717985, -0.43120876252651213, ...   \n",
       "1  [1.3254939317703247, -0.590305113366672, 1.324...   \n",
       "2  [0.44970626446108025, -0.9549528261025747, -0....   \n",
       "3  [0.5796275761994448, -0.7381095398556102, 0.68...   \n",
       "4  [0.6148717587606775, -0.539965526925193, 1.216...   \n",
       "\n",
       "                                       io_prediction  \n",
       "0                                                NaN  \n",
       "1  O I-cR1 I-cV I-cR2 O O O I-R1 I-R1 I-R1 I-R2 I...  \n",
       "2                                                NaN  \n",
       "3                                                NaN  \n",
       "4                                                NaN  "
      ]
     },
     "execution_count": 57,
     "metadata": {
      "tags": []
     },
     "output_type": "execute_result"
    }
   ],
   "source": [
    "test.head()"
   ]
  },
  {
   "cell_type": "code",
   "execution_count": 0,
   "metadata": {
    "colab": {},
    "colab_type": "code",
    "id": "yAtfyRFJnej8"
   },
   "outputs": [],
   "source": [
    "test.to_csv('rnn_out.csv', sep='\\t', encoding='utf-8')"
   ]
  },
  {
   "cell_type": "code",
   "execution_count": 59,
   "metadata": {
    "colab": {
     "base_uri": "https://localhost:8080/",
     "height": 51
    },
    "colab_type": "code",
    "id": "FC4RN6o2ngYO",
    "outputId": "b531a4e5-7d01-41bd-ee1a-2afa1774c8db"
   },
   "outputs": [
    {
     "name": "stdout",
     "output_type": "stream",
     "text": [
      "Binary classification quality (f1-score): 0.4210526315789474\n",
      "Gapping resolution quality (symbol-wise f-measure): 8.241712904616306e-05\n"
     ]
    }
   ],
   "source": [
    "!python3 agrr_metrics.py test.csv rnn_out.csv"
   ]
  }
 ],
 "metadata": {
  "accelerator": "GPU",
  "colab": {
   "collapsed_sections": [],
   "name": "HW2.ipynb",
   "provenance": [],
   "version": "0.3.2"
  },
  "kernelspec": {
   "display_name": "Python 3",
   "language": "python",
   "name": "python3"
  },
  "language_info": {
   "codemirror_mode": {
    "name": "ipython",
    "version": 3
   },
   "file_extension": ".py",
   "mimetype": "text/x-python",
   "name": "python",
   "nbconvert_exporter": "python",
   "pygments_lexer": "ipython3",
   "version": "3.7.3"
  }
 },
 "nbformat": 4,
 "nbformat_minor": 1
}
